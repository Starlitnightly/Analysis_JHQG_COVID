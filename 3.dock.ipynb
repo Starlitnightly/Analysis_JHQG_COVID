{
 "cells": [
  {
   "cell_type": "code",
   "execution_count": 41,
   "id": "f06fb79f-fc19-4d2e-bc60-f29d44d275b1",
   "metadata": {},
   "outputs": [
    {
     "data": {
      "text/html": [
       "<div>\n",
       "<style scoped>\n",
       "    .dataframe tbody tr th:only-of-type {\n",
       "        vertical-align: middle;\n",
       "    }\n",
       "\n",
       "    .dataframe tbody tr th {\n",
       "        vertical-align: top;\n",
       "    }\n",
       "\n",
       "    .dataframe thead th {\n",
       "        text-align: right;\n",
       "    }\n",
       "</style>\n",
       "<table border=\"1\" class=\"dataframe\">\n",
       "  <thead>\n",
       "    <tr style=\"text-align: right;\">\n",
       "      <th></th>\n",
       "      <th>herb_id</th>\n",
       "      <th>herb_name</th>\n",
       "      <th>herb_type</th>\n",
       "      <th>target</th>\n",
       "      <th>Resource</th>\n",
       "    </tr>\n",
       "  </thead>\n",
       "  <tbody>\n",
       "    <tr>\n",
       "      <th>0</th>\n",
       "      <td>HBIN041751</td>\n",
       "      <td>quinic acid</td>\n",
       "      <td>Aliphatic acid</td>\n",
       "      <td>CA2</td>\n",
       "      <td>Lianqiao</td>\n",
       "    </tr>\n",
       "    <tr>\n",
       "      <th>1</th>\n",
       "      <td>HBIN041751</td>\n",
       "      <td>quinic acid</td>\n",
       "      <td>Aliphatic acid</td>\n",
       "      <td>PTGS2</td>\n",
       "      <td>Lianqiao</td>\n",
       "    </tr>\n",
       "    <tr>\n",
       "      <th>2</th>\n",
       "      <td>HBIN041751</td>\n",
       "      <td>quinic acid</td>\n",
       "      <td>Aliphatic acid</td>\n",
       "      <td>GRIA2</td>\n",
       "      <td>Lianqiao</td>\n",
       "    </tr>\n",
       "    <tr>\n",
       "      <th>3</th>\n",
       "      <td>HBIN041751</td>\n",
       "      <td>quinic acid</td>\n",
       "      <td>Aliphatic acid</td>\n",
       "      <td>ACHE</td>\n",
       "      <td>Lianqiao</td>\n",
       "    </tr>\n",
       "    <tr>\n",
       "      <th>4</th>\n",
       "      <td>HBIN041751</td>\n",
       "      <td>quinic acid</td>\n",
       "      <td>Aliphatic acid</td>\n",
       "      <td>DPP4</td>\n",
       "      <td>Lianqiao</td>\n",
       "    </tr>\n",
       "  </tbody>\n",
       "</table>\n",
       "</div>"
      ],
      "text/plain": [
       "      herb_id    herb_name       herb_type target  Resource\n",
       "0  HBIN041751  quinic acid  Aliphatic acid    CA2  Lianqiao\n",
       "1  HBIN041751  quinic acid  Aliphatic acid  PTGS2  Lianqiao\n",
       "2  HBIN041751  quinic acid  Aliphatic acid  GRIA2  Lianqiao\n",
       "3  HBIN041751  quinic acid  Aliphatic acid   ACHE  Lianqiao\n",
       "4  HBIN041751  quinic acid  Aliphatic acid   DPP4  Lianqiao"
      ]
     },
     "execution_count": 41,
     "metadata": {},
     "output_type": "execute_result"
    }
   ],
   "source": [
    "import pandas as pd\n",
    "data=pd.read_csv('../result/inte_target.tsv',sep='\\t',index_col=0)\n",
    "data.head()"
   ]
  },
  {
   "cell_type": "code",
   "execution_count": 49,
   "id": "5ebad8cc-0cec-4917-b9a8-e1b78a84bf69",
   "metadata": {},
   "outputs": [
    {
     "data": {
      "text/plain": [
       "['LYZ_1xju.pdb',\n",
       " 'MKI67_2aff.pdb',\n",
       " 'LYZ_1xju.pdbqt',\n",
       " 'CTSD_4obz.pdb',\n",
       " 'HSPA5_3iuc.pdb',\n",
       " 'IGHG1_6hyg.pdb',\n",
       " 'S100A8_5hlv.pdb',\n",
       " 'caffeic_acid.pdbqt']"
      ]
     },
     "execution_count": 49,
     "metadata": {},
     "output_type": "execute_result"
    }
   ],
   "source": []
  },
  {
   "cell_type": "code",
   "execution_count": 70,
   "id": "d66a92a9-7fd2-4b0f-b00f-8352c049936e",
   "metadata": {},
   "outputs": [
    {
     "data": {
      "text/plain": [
       "array([ 0.   ,  0.   ,  0.   ,  0.   ,  0.   , -0.371,  0.   , -0.371])"
      ]
     },
     "execution_count": 70,
     "metadata": {},
     "output_type": "execute_result"
    }
   ],
   "source": [
    "energy_minimized"
   ]
  },
  {
   "cell_type": "code",
   "execution_count": 75,
   "id": "f6f277bc-afc5-4935-87ce-81a26823e967",
   "metadata": {},
   "outputs": [
    {
     "name": "stdout",
     "output_type": "stream",
     "text": [
      "LYZ vanillic_acid started\n",
      "adding gasteiger charges to peptide\n",
      "['gridcenter', '-0.112', '0.190', '0.019', '', '', '', '', '', '', '', '#', 'xyz-coordinates', 'or', 'auto\\n']\n",
      "\n",
      "mode |   affinity | dist from best mode\n",
      "     | (kcal/mol) | rmsd l.b.| rmsd u.b.\n",
      "-----+------------+----------+----------\n",
      "   1      -0.4307          0          0\n",
      "   2       -0.366      3.891      5.771\n",
      "   3      -0.3643        4.5       6.44\n",
      "   4      -0.3551      1.455      1.941\n",
      "   5      -0.3361        6.2      9.529\n",
      "   6      -0.3311      2.908        7.5\n",
      "   7      -0.3309      2.491      4.032\n",
      "   8      -0.3208      2.146      2.925\n",
      "   9      -0.3186      2.564      2.907\n",
      "  10      -0.3064      1.812      3.198\n",
      "  11      -0.3015      3.338      4.807\n",
      "  12      -0.3008      5.376      6.129\n",
      "  13      -0.2993      2.283       7.85\n",
      "  14      -0.2979      5.361      7.342\n",
      "  15      -0.2789      4.357      4.642\n",
      "  16      -0.2772      2.869      7.935\n",
      "  17      -0.2673      3.926      4.733\n",
      "  18      -0.2624      3.742      7.907\n",
      "  19      -0.2618      3.736      8.922\n",
      "  20       0.8018      16.73      18.94\n",
      "Score before minimization: -0.189 (kcal/mol)\n",
      "Score after minimization : -1.741 (kcal/mol)\n",
      "Computing Vina grid ... done.\n",
      "Performing local search ... done.\n",
      "Performing docking (random seed: 1971862824) ... \n",
      "0%   10   20   30   40   50   60   70   80   90   100%\n",
      "|----|----|----|----|----|----|----|----|----|----|\n",
      "***************************************************\n"
     ]
    },
    {
     "name": "stderr",
     "output_type": "stream",
     "text": [
      "WARNING: Search space volume is greater than 27000 Angstrom^3 (See FAQ)\n",
      "mkdir: dock/LYZ_vanillic_acid: File exists\n",
      "2024-02-03 14:59:53,038 [INFO] [plipcmd.py:124] plip.plipcmd: Protein-Ligand Interaction Profiler (PLIP) 2.3.0\n",
      "2024-02-03 14:59:53,038 [INFO] [plipcmd.py:125] plip.plipcmd: brought to you by: PharmAI GmbH (2020-2021) - www.pharm.ai - hello@pharm.ai\n",
      "2024-02-03 14:59:53,039 [INFO] [plipcmd.py:126] plip.plipcmd: please cite: Adasme,M. et al. PLIP 2021: expanding the scope of the protein-ligand interaction profiler to DNA and RNA. Nucl. Acids Res. (05 May 2021), gkab294. doi: 10.1093/nar/gkab294\n",
      "2024-02-03 14:59:53,039 [INFO] [plipcmd.py:49] plip.plipcmd: starting analysis of LYZ_vanillic_acid.pdb\n",
      "Imagemagick not available. Images will not be resized or cropped.2024-02-03 14:59:53,306 [INFO] [plipcmd.py:165] plip.plipcmd: finished analysis, find the result files in dock/LYZ_vanillic_acid/\n"
     ]
    },
    {
     "name": "stdout",
     "output_type": "stream",
     "text": [
      "LYZ vanillic_acid finished\n",
      "LYZ caffeic_acid started\n",
      "adding gasteiger charges to peptide\n",
      "['gridcenter', '0.182', '0.075', '0.033', '', '', '', '', '', '', '', '', '#', 'xyz-coordinates', 'or', 'auto\\n']\n",
      "\n",
      "mode |   affinity | dist from best mode\n",
      "     | (kcal/mol) | rmsd l.b.| rmsd u.b.\n",
      "-----+------------+----------+----------\n",
      "   1       -5.688          0          0\n",
      "   2       -5.631      20.75      22.39\n",
      "   3       -5.522      1.647      4.095\n",
      "   4        -5.43      27.17      28.05\n",
      "   5       -5.378      24.45      25.48\n",
      "   6       -5.352      28.11      29.27\n",
      "   7       -5.344      34.14      34.83\n",
      "   8       -5.284      26.46         27\n",
      "   9        -5.26      33.76       34.7\n",
      "  10       -5.256      27.26      28.63\n",
      "  11       -5.253      27.89      29.05\n",
      "  12        -5.23      33.82      34.89\n",
      "  13       -5.204      33.93      34.73\n",
      "  14       -5.195      34.03      35.13\n",
      "  15       -5.181      27.45      28.31\n",
      "  16       -5.049      20.41      21.87\n",
      "  17       -5.001      34.14      35.17\n",
      "  18       -4.908      27.87      28.93\n",
      "  19        -4.85      27.49      28.82\n",
      "  20       -4.811      27.28      28.06\n"
     ]
    },
    {
     "name": "stderr",
     "output_type": "stream",
     "text": [
      "WARNING: Search space volume is greater than 27000 Angstrom^3 (See FAQ)\n",
      "mkdir: dock/LYZ_caffeic_acid: File exists\n"
     ]
    },
    {
     "name": "stdout",
     "output_type": "stream",
     "text": [
      "Computing Vina grid ... done.\n",
      "Score before minimization: -0.457 (kcal/mol)\n",
      "Score after minimization : -0.527 (kcal/mol)\n",
      "Performing local search ... done.\n",
      "Performing docking (random seed: 1968332197) ... \n",
      "0%   10   20   30   40   50   60   70   80   90   100%\n",
      "|----|----|----|----|----|----|----|----|----|----|\n",
      "***************************************************\n"
     ]
    },
    {
     "name": "stderr",
     "output_type": "stream",
     "text": [
      "2024-02-03 15:00:03,586 [INFO] [plipcmd.py:124] plip.plipcmd: Protein-Ligand Interaction Profiler (PLIP) 2.3.0\n",
      "2024-02-03 15:00:03,586 [INFO] [plipcmd.py:125] plip.plipcmd: brought to you by: PharmAI GmbH (2020-2021) - www.pharm.ai - hello@pharm.ai\n",
      "2024-02-03 15:00:03,586 [INFO] [plipcmd.py:126] plip.plipcmd: please cite: Adasme,M. et al. PLIP 2021: expanding the scope of the protein-ligand interaction profiler to DNA and RNA. Nucl. Acids Res. (05 May 2021), gkab294. doi: 10.1093/nar/gkab294\n",
      "2024-02-03 15:00:03,586 [INFO] [plipcmd.py:49] plip.plipcmd: starting analysis of LYZ_caffeic_acid.pdb\n",
      "Imagemagick not available. Images will not be resized or cropped.2024-02-03 15:00:03,855 [INFO] [plipcmd.py:165] plip.plipcmd: finished analysis, find the result files in dock/LYZ_caffeic_acid/\n"
     ]
    },
    {
     "name": "stdout",
     "output_type": "stream",
     "text": [
      "LYZ caffeic_acid finished\n",
      "MKI67 daidzein started\n",
      "adding gasteiger charges to peptide\n",
      "['gridcenter', '-0.002', '-0.035', '-0.039', '', '', '', '', '', '#', 'xyz-coordinates', 'or', 'auto\\n']\n",
      "\n",
      "mode |   affinity | dist from best mode\n",
      "     | (kcal/mol) | rmsd l.b.| rmsd u.b.\n",
      "-----+------------+----------+----------\n",
      "   1       -6.187          0          0\n",
      "   2       -6.138      21.59      22.64\n",
      "   3       -5.936      21.09      22.13\n",
      "   4       -5.929      21.62      22.76\n",
      "   5       -5.878      24.58      25.83\n",
      "   6        -5.81      20.81      22.67\n",
      "   7       -5.782      26.51      27.59\n",
      "   8       -5.697       21.6      22.66\n",
      "   9       -5.657      35.91      37.27\n",
      "  10       -5.647      7.241        8.3\n",
      "  11       -5.611      21.06      22.93\n",
      "  12       -5.601       22.8      23.82\n",
      "  13       -5.579      25.31      26.18\n",
      "  14       -5.566      26.45      27.53\n",
      "  15       -5.532      20.54      22.29\n",
      "  16       -5.528      34.31      35.51\n",
      "  17         -5.5       28.2      29.26\n",
      "  18        -5.48      20.35      22.45\n",
      "  19        -5.44       24.4      25.86\n",
      "  20       -5.439       27.5      29.67\n",
      "Computing Vina grid ... done.\n",
      "Score before minimization: 175.000 (kcal/mol)\n",
      "Score after minimization : -2.398 (kcal/mol)\n",
      "Performing local search ... done.\n"
     ]
    },
    {
     "name": "stderr",
     "output_type": "stream",
     "text": [
      "WARNING: Search space volume is greater than 27000 Angstrom^3 (See FAQ)\n"
     ]
    },
    {
     "name": "stdout",
     "output_type": "stream",
     "text": [
      "Performing docking (random seed: -244050141) ... \n",
      "0%   10   20   30   40   50   60   70   80   90   100%\n",
      "|----|----|----|----|----|----|----|----|----|----|\n",
      "***************************************************\n"
     ]
    },
    {
     "name": "stderr",
     "output_type": "stream",
     "text": [
      "mkdir: dock/MKI67_daidzein: File exists\n",
      "2024-02-03 15:00:13,578 [INFO] [plipcmd.py:124] plip.plipcmd: Protein-Ligand Interaction Profiler (PLIP) 2.3.0\n",
      "2024-02-03 15:00:13,578 [INFO] [plipcmd.py:125] plip.plipcmd: brought to you by: PharmAI GmbH (2020-2021) - www.pharm.ai - hello@pharm.ai\n",
      "2024-02-03 15:00:13,578 [INFO] [plipcmd.py:126] plip.plipcmd: please cite: Adasme,M. et al. PLIP 2021: expanding the scope of the protein-ligand interaction profiler to DNA and RNA. Nucl. Acids Res. (05 May 2021), gkab294. doi: 10.1093/nar/gkab294\n",
      "2024-02-03 15:00:13,578 [INFO] [plipcmd.py:49] plip.plipcmd: starting analysis of MKI67_daidzein.pdb\n",
      "Imagemagick not available. Images will not be resized or cropped.2024-02-03 15:00:13,840 [INFO] [plipcmd.py:165] plip.plipcmd: finished analysis, find the result files in dock/MKI67_daidzein/\n"
     ]
    },
    {
     "name": "stdout",
     "output_type": "stream",
     "text": [
      "MKI67 daidzein finished\n",
      "S100A8 rutin started\n",
      "adding gasteiger charges to peptide\n",
      "['gridcenter', '0.078', '0.153', '-0.016', '', '', '', '', '', '', '', '#', 'xyz-coordinates', 'or', 'auto\\n']\n",
      "\n",
      "mode |   affinity | dist from best mode\n",
      "     | (kcal/mol) | rmsd l.b.| rmsd u.b.\n",
      "-----+------------+----------+----------\n",
      "   1       -6.313          0          0\n",
      "   2       -6.111      1.282      6.927\n",
      "   3       -6.048      13.09       15.7\n",
      "   4       -6.026      3.762      7.683\n",
      "   5       -5.871      4.534      6.205\n",
      "   6       -5.867       1.61      7.061\n",
      "   7       -5.862      13.41      15.75\n",
      "   8       -5.816       2.59      3.628\n",
      "   9       -5.771      4.154      5.517\n",
      "  10       -5.766     0.8131      2.254\n",
      "  11       -5.676      14.03      16.24\n",
      "  12       -5.645      2.525      3.054\n",
      "  13       -5.515      13.84      16.54\n",
      "  14        -5.51      2.603      6.562\n",
      "  15        -5.21      22.74      24.04\n",
      "  16         -5.2      4.055      5.534\n",
      "  17       -5.168      22.54      24.36\n",
      "  18       -5.166      22.71      24.39\n",
      "  19       -5.146      14.19      15.74\n",
      "  20       -5.114      4.574      7.084\n"
     ]
    },
    {
     "name": "stderr",
     "output_type": "stream",
     "text": [
      "WARNING: Search space volume is greater than 27000 Angstrom^3 (See FAQ)\n"
     ]
    },
    {
     "name": "stdout",
     "output_type": "stream",
     "text": [
      "Score before minimization: 0.000 (kcal/mol)Computing Vina grid ... done.\n",
      "\n",
      "Score after minimization : 0.000 (kcal/mol)\n",
      "Performing local search ... done.\n",
      "Performing docking (random seed: 1585062123) ... \n",
      "0%   10   20   30   40   50   60   70   80   90   100%\n",
      "|----|----|----|----|----|----|----|----|----|----|\n",
      "***************************************************\n"
     ]
    },
    {
     "name": "stderr",
     "output_type": "stream",
     "text": [
      "mkdir: dock/S100A8_rutin: File exists\n",
      "2024-02-03 15:02:25,942 [INFO] [plipcmd.py:124] plip.plipcmd: Protein-Ligand Interaction Profiler (PLIP) 2.3.0\n",
      "2024-02-03 15:02:25,942 [INFO] [plipcmd.py:125] plip.plipcmd: brought to you by: PharmAI GmbH (2020-2021) - www.pharm.ai - hello@pharm.ai\n",
      "2024-02-03 15:02:25,942 [INFO] [plipcmd.py:126] plip.plipcmd: please cite: Adasme,M. et al. PLIP 2021: expanding the scope of the protein-ligand interaction profiler to DNA and RNA. Nucl. Acids Res. (05 May 2021), gkab294. doi: 10.1093/nar/gkab294\n",
      "2024-02-03 15:02:25,942 [INFO] [plipcmd.py:49] plip.plipcmd: starting analysis of S100A8_rutin.pdb\n",
      "Imagemagick not available. Images will not be resized or cropped.2024-02-03 15:02:26,207 [INFO] [plipcmd.py:165] plip.plipcmd: finished analysis, find the result files in dock/S100A8_rutin/\n"
     ]
    },
    {
     "name": "stdout",
     "output_type": "stream",
     "text": [
      "S100A8 rutin finished\n",
      "CTSD quercetin started\n",
      "adding gasteiger charges to peptide\n",
      "['gridcenter', '0.160', '0.020', '0.087', '', '', '', '', '', '', '', '', '#', 'xyz-coordinates', 'or', 'auto\\n']\n",
      "\n",
      "mode |   affinity | dist from best mode\n",
      "     | (kcal/mol) | rmsd l.b.| rmsd u.b.\n",
      "-----+------------+----------+----------\n",
      "   1       -5.588          0          0\n",
      "   2       -5.562      1.907      6.957\n",
      "   3       -5.487        1.9      6.257\n",
      "   4       -5.479       17.7      22.53\n",
      "   5       -5.448       2.13      6.864\n",
      "   6       -5.421      2.754      5.976\n",
      "   7       -5.365      9.677      12.93\n",
      "   8        -5.35      2.609      5.958\n",
      "   9       -5.283      23.37      26.76\n",
      "  10       -5.244      9.052      14.42\n",
      "  11       -5.213      4.555      9.066\n",
      "  12       -5.184       6.47      11.35\n",
      "  13       -5.175      13.29       16.5\n",
      "  14       -5.165      24.28      27.37\n",
      "  15       -5.155      2.563       5.69\n",
      "  16       -5.124       3.02       7.57\n",
      "  17       -5.123      3.143      5.774\n",
      "  18       -5.117      7.601      13.26\n",
      "  19       -5.094      7.885      14.08\n",
      "  20       -5.044       19.7       24.2\n",
      "Score before minimization: 0.000 (kcal/mol)\n",
      "Score after minimization : 0.000 (kcal/mol)\n"
     ]
    },
    {
     "name": "stderr",
     "output_type": "stream",
     "text": [
      "WARNING: Search space volume is greater than 27000 Angstrom^3 (See FAQ)\n"
     ]
    },
    {
     "name": "stdout",
     "output_type": "stream",
     "text": [
      "Computing Vina grid ... done.\n",
      "Performing local search ... done.\n",
      "Performing docking (random seed: 1043579634) ... \n",
      "0%   10   20   30   40   50   60   70   80   90   100%\n",
      "|----|----|----|----|----|----|----|----|----|----|\n",
      "***************************************************\n"
     ]
    },
    {
     "name": "stderr",
     "output_type": "stream",
     "text": [
      "mkdir: dock/CTSD_quercetin: File exists\n",
      "2024-02-03 15:02:47,254 [INFO] [plipcmd.py:124] plip.plipcmd: Protein-Ligand Interaction Profiler (PLIP) 2.3.0\n",
      "2024-02-03 15:02:47,254 [INFO] [plipcmd.py:125] plip.plipcmd: brought to you by: PharmAI GmbH (2020-2021) - www.pharm.ai - hello@pharm.ai\n",
      "2024-02-03 15:02:47,254 [INFO] [plipcmd.py:126] plip.plipcmd: please cite: Adasme,M. et al. PLIP 2021: expanding the scope of the protein-ligand interaction profiler to DNA and RNA. Nucl. Acids Res. (05 May 2021), gkab294. doi: 10.1093/nar/gkab294\n",
      "2024-02-03 15:02:47,254 [INFO] [plipcmd.py:49] plip.plipcmd: starting analysis of CTSD_quercetin.pdb\n",
      "Imagemagick not available. Images will not be resized or cropped.2024-02-03 15:02:47,519 [INFO] [plipcmd.py:165] plip.plipcmd: finished analysis, find the result files in dock/CTSD_quercetin/\n"
     ]
    },
    {
     "name": "stdout",
     "output_type": "stream",
     "text": [
      "CTSD quercetin finished\n",
      "HSPA5 quercetin started\n",
      "adding gasteiger charges to peptide\n",
      "['gridcenter', '0.160', '0.020', '0.087', '', '', '', '', '', '', '', '', '#', 'xyz-coordinates', 'or', 'auto\\n']\n",
      "Score before minimization: 95.887 (kcal/mol)\n",
      "Score after minimization : 0.000 (kcal/mol)\n"
     ]
    },
    {
     "name": "stderr",
     "output_type": "stream",
     "text": [
      "WARNING: Search space volume is greater than 27000 Angstrom^3 (See FAQ)\n"
     ]
    },
    {
     "name": "stdout",
     "output_type": "stream",
     "text": [
      "\n",
      "mode |   affinity | dist from best mode\n",
      "     | (kcal/mol) | rmsd l.b.| rmsd u.b.\n",
      "-----+------------+----------+----------\n",
      "   1       -7.975          0          0\n",
      "   2       -7.917      4.983       7.78\n",
      "   3        -7.86      1.164      2.934\n",
      "   4       -7.844      3.417      6.991\n",
      "   5       -7.415      10.41      12.45\n",
      "   6       -7.351      8.469      11.19\n",
      "   7       -7.258      10.06      12.39\n",
      "   8       -7.204      10.39      11.98\n",
      "   9       -7.187      10.38      11.69\n",
      "  10        -7.05       12.3      14.78\n",
      "  11       -6.861      9.977      12.74\n",
      "  12       -6.724      16.29       17.9\n",
      "  13       -6.698      10.09      12.92\n",
      "  14        -6.65      10.78      12.86\n",
      "  15       -6.519      12.88      14.99\n",
      "  16       -6.502       7.83      10.79\n",
      "  17       -6.485      8.446      11.58\n",
      "  18       -6.426      2.649      6.786\n",
      "  19       -6.414      10.61      13.12\n",
      "  20       -6.318      4.332      5.456\n",
      "Computing Vina grid ... done.\n",
      "Performing local search ... done.\n",
      "Performing docking (random seed: 489907700) ... \n",
      "0%   10   20   30   40   50   60   70   80   90   100%\n",
      "|----|----|----|----|----|----|----|----|----|----|\n",
      "***************************************************\n"
     ]
    },
    {
     "name": "stderr",
     "output_type": "stream",
     "text": [
      "mkdir: dock/HSPA5_quercetin: File exists\n",
      "2024-02-03 15:03:10,606 [INFO] [plipcmd.py:124] plip.plipcmd: Protein-Ligand Interaction Profiler (PLIP) 2.3.0\n",
      "2024-02-03 15:03:10,606 [INFO] [plipcmd.py:125] plip.plipcmd: brought to you by: PharmAI GmbH (2020-2021) - www.pharm.ai - hello@pharm.ai\n",
      "2024-02-03 15:03:10,606 [INFO] [plipcmd.py:126] plip.plipcmd: please cite: Adasme,M. et al. PLIP 2021: expanding the scope of the protein-ligand interaction profiler to DNA and RNA. Nucl. Acids Res. (05 May 2021), gkab294. doi: 10.1093/nar/gkab294\n",
      "2024-02-03 15:03:10,606 [INFO] [plipcmd.py:49] plip.plipcmd: starting analysis of HSPA5_quercetin.pdb\n",
      "Imagemagick not available. Images will not be resized or cropped.2024-02-03 15:03:11,065 [INFO] [plipcmd.py:165] plip.plipcmd: finished analysis, find the result files in dock/HSPA5_quercetin/\n"
     ]
    },
    {
     "name": "stdout",
     "output_type": "stream",
     "text": [
      "HSPA5 quercetin finished\n",
      "IGHG1 irigenin started\n",
      "adding gasteiger charges to peptide\n",
      "['gridcenter', '0.122', '-0.066', '0.092', '', '', '', '', '', '', '', '#', 'xyz-coordinates', 'or', 'auto\\n']\n",
      "\n",
      "mode |   affinity | dist from best mode\n",
      "     | (kcal/mol) | rmsd l.b.| rmsd u.b.\n",
      "-----+------------+----------+----------\n",
      "   1       -7.819          0          0\n",
      "   2       -7.587      1.173      2.868\n",
      "   3       -7.479      1.952      6.685\n",
      "   4       -7.379      3.701      6.509\n",
      "   5       -7.371       2.84      7.563\n",
      "   6       -7.363      3.579      6.774\n",
      "   7       -7.338      2.624      2.885\n",
      "   8       -7.307      23.77         26\n",
      "   9       -7.187      3.588      4.909\n",
      "  10       -7.107      22.41      23.64\n",
      "  11       -7.041      30.27      33.21\n",
      "  12       -7.035      29.02      30.87\n",
      "  13       -7.026      4.043      7.519\n",
      "  14       -6.999      3.653      6.606\n",
      "  15       -6.991      3.553       6.66\n",
      "  16       -6.984      8.219      10.52\n",
      "  17       -6.972      3.279      4.738\n",
      "  18       -6.906       3.55      6.241\n",
      "  19       -6.903      30.21      33.02\n",
      "  20       -6.788      5.112       7.73\n"
     ]
    },
    {
     "name": "stderr",
     "output_type": "stream",
     "text": [
      "WARNING: Search space volume is greater than 27000 Angstrom^3 (See FAQ)\n"
     ]
    },
    {
     "name": "stdout",
     "output_type": "stream",
     "text": [
      "Computing Vina grid ... done.\n",
      "Score before minimization: 0.000 (kcal/mol)\n",
      "Score after minimization : 0.000 (kcal/mol)\n",
      "Performing local search ... done.\n",
      "Performing docking (random seed: -1101450959) ... \n",
      "0%   10   20   30   40   50   60   70   80   90   100%\n",
      "|----|----|----|----|----|----|----|----|----|----|\n",
      "***************************************************\n"
     ]
    },
    {
     "name": "stderr",
     "output_type": "stream",
     "text": [
      "mkdir: dock/IGHG1_irigenin: File exists\n",
      "2024-02-03 15:03:40,325 [INFO] [plipcmd.py:124] plip.plipcmd: Protein-Ligand Interaction Profiler (PLIP) 2.3.0\n",
      "2024-02-03 15:03:40,325 [INFO] [plipcmd.py:125] plip.plipcmd: brought to you by: PharmAI GmbH (2020-2021) - www.pharm.ai - hello@pharm.ai\n",
      "2024-02-03 15:03:40,325 [INFO] [plipcmd.py:126] plip.plipcmd: please cite: Adasme,M. et al. PLIP 2021: expanding the scope of the protein-ligand interaction profiler to DNA and RNA. Nucl. Acids Res. (05 May 2021), gkab294. doi: 10.1093/nar/gkab294\n",
      "2024-02-03 15:03:40,325 [INFO] [plipcmd.py:49] plip.plipcmd: starting analysis of IGHG1_irigenin.pdb\n",
      "Imagemagick not available. Images will not be resized or cropped.2024-02-03 15:03:40,639 [INFO] [plipcmd.py:165] plip.plipcmd: finished analysis, find the result files in dock/IGHG1_irigenin/\n"
     ]
    },
    {
     "name": "stdout",
     "output_type": "stream",
     "text": [
      "IGHG1 irigenin finished\n",
      "IGHG1 rosmarinic_acid started\n",
      "adding gasteiger charges to peptide\n",
      "['gridcenter', '-0.113', '0.174', '0.004', '', '', '', '', '', '', '', '#', 'xyz-coordinates', 'or', 'auto\\n']\n"
     ]
    },
    {
     "name": "stderr",
     "output_type": "stream",
     "text": [
      "WARNING: Search space volume is greater than 27000 Angstrom^3 (See FAQ)\n"
     ]
    },
    {
     "name": "stdout",
     "output_type": "stream",
     "text": [
      "\n",
      "mode |   affinity | dist from best mode\n",
      "     | (kcal/mol) | rmsd l.b.| rmsd u.b.\n",
      "-----+------------+----------+----------\n",
      "   1       -6.561          0          0\n",
      "   2       -6.481      6.587      11.63\n",
      "   3        -6.41      6.199      11.36\n",
      "   4       -6.394      5.681      11.03\n",
      "   5       -6.376      5.797      11.26\n",
      "   6       -6.264       1.52      8.181\n",
      "   7       -6.082      37.18       40.6\n",
      "   8       -6.066      8.355      11.16\n",
      "   9       -6.023      8.558      11.01\n",
      "  10       -6.011      37.04      40.55\n",
      "  11       -5.931      24.31      27.81\n",
      "  12       -5.918      22.27      23.69\n",
      "  13       -5.888      21.72      23.56\n",
      "  14       -5.868      27.62      29.54\n",
      "  15       -5.845      40.13      42.28\n",
      "  16       -5.821      26.95      30.56\n",
      "  17        -5.82      23.81      26.87\n",
      "  18       -5.768      7.792      11.25\n",
      "  19       -5.766      3.112      6.221\n",
      "  20       -5.721      21.47      23.15\n",
      "Score before minimization: 0.000 (kcal/mol)\n",
      "Score after minimization : 0.000 (kcal/mol)\n",
      "Computing Vina grid ... done.\n",
      "Performing local search ... done.\n",
      "Performing docking (random seed: 1412227994) ... \n",
      "0%   10   20   30   40   50   60   70   80   90   100%\n",
      "|----|----|----|----|----|----|----|----|----|----|\n",
      "***************************************************\n"
     ]
    },
    {
     "name": "stderr",
     "output_type": "stream",
     "text": [
      "mkdir: dock/IGHG1_rosmarinic_acid: File exists\n",
      "2024-02-03 15:04:14,070 [INFO] [plipcmd.py:124] plip.plipcmd: Protein-Ligand Interaction Profiler (PLIP) 2.3.0\n",
      "2024-02-03 15:04:14,070 [INFO] [plipcmd.py:125] plip.plipcmd: brought to you by: PharmAI GmbH (2020-2021) - www.pharm.ai - hello@pharm.ai\n",
      "2024-02-03 15:04:14,070 [INFO] [plipcmd.py:126] plip.plipcmd: please cite: Adasme,M. et al. PLIP 2021: expanding the scope of the protein-ligand interaction profiler to DNA and RNA. Nucl. Acids Res. (05 May 2021), gkab294. doi: 10.1093/nar/gkab294\n",
      "2024-02-03 15:04:14,070 [INFO] [plipcmd.py:49] plip.plipcmd: starting analysis of IGHG1_rosmarinic_acid.pdb\n",
      "Imagemagick not available. Images will not be resized or cropped.2024-02-03 15:04:14,410 [INFO] [plipcmd.py:165] plip.plipcmd: finished analysis, find the result files in dock/IGHG1_rosmarinic_acid/\n"
     ]
    },
    {
     "name": "stdout",
     "output_type": "stream",
     "text": [
      "IGHG1 rosmarinic_acid finished\n",
      "IGHG1 emodin started\n",
      "adding gasteiger charges to peptide\n",
      "['gridcenter', '0.284', '0.149', '0.000', '', '', '', '', '', '', '', '', '#', 'xyz-coordinates', 'or', 'auto\\n']\n",
      "\n",
      "mode |   affinity | dist from best mode\n",
      "     | (kcal/mol) | rmsd l.b.| rmsd u.b.\n",
      "-----+------------+----------+----------\n",
      "   1        -6.64          0          0\n",
      "   2       -6.239      4.899      9.439\n",
      "   3       -6.172      11.06      14.26\n",
      "   4       -6.063      11.36      13.86\n",
      "   5        -6.02      10.73      15.42\n",
      "   6        -5.95      4.748      9.993\n",
      "   7       -5.937       6.71      11.62\n",
      "   8       -5.898      5.257      9.941\n",
      "   9       -5.861      33.79      36.45\n",
      "  10       -5.856      11.51      15.77\n",
      "  11       -5.821      41.06      44.02\n",
      "  12        -5.82      12.26      15.41\n",
      "  13       -5.804      8.563      12.78\n",
      "  14       -5.788      17.74      20.83\n",
      "  15       -5.785      20.88      23.69\n",
      "  16       -5.742      17.92      21.61\n",
      "  17       -5.616      27.42      29.31\n",
      "  18       -5.594      9.085      12.39\n",
      "  19       -5.547      34.23      36.15\n",
      "  20       -5.494      21.43      25.08\n"
     ]
    },
    {
     "name": "stderr",
     "output_type": "stream",
     "text": [
      "WARNING: Search space volume is greater than 27000 Angstrom^3 (See FAQ)\n",
      "mkdir: dock/IGHG1_emodin: File exists\n"
     ]
    },
    {
     "name": "stdout",
     "output_type": "stream",
     "text": [
      "Score before minimization: 0.000 (kcal/mol)\n",
      "Score after minimization : 0.000 (kcal/mol)\n",
      "Computing Vina grid ... done.\n",
      "Performing local search ... done.\n",
      "Performing docking (random seed: 1466120736) ... \n",
      "0%   10   20   30   40   50   60   70   80   90   100%\n",
      "|----|----|----|----|----|----|----|----|----|----|\n",
      "***************************************************\n"
     ]
    },
    {
     "name": "stderr",
     "output_type": "stream",
     "text": [
      "2024-02-03 15:04:21,740 [INFO] [plipcmd.py:124] plip.plipcmd: Protein-Ligand Interaction Profiler (PLIP) 2.3.0\n",
      "2024-02-03 15:04:21,740 [INFO] [plipcmd.py:125] plip.plipcmd: brought to you by: PharmAI GmbH (2020-2021) - www.pharm.ai - hello@pharm.ai\n",
      "2024-02-03 15:04:21,740 [INFO] [plipcmd.py:126] plip.plipcmd: please cite: Adasme,M. et al. PLIP 2021: expanding the scope of the protein-ligand interaction profiler to DNA and RNA. Nucl. Acids Res. (05 May 2021), gkab294. doi: 10.1093/nar/gkab294\n",
      "2024-02-03 15:04:21,740 [INFO] [plipcmd.py:49] plip.plipcmd: starting analysis of IGHG1_emodin.pdb\n",
      "Imagemagick not available. Images will not be resized or cropped.2024-02-03 15:04:22,051 [INFO] [plipcmd.py:165] plip.plipcmd: finished analysis, find the result files in dock/IGHG1_emodin/\n"
     ]
    },
    {
     "name": "stdout",
     "output_type": "stream",
     "text": [
      "IGHG1 emodin finished\n",
      "IGHG1 pectolinarigenin started\n",
      "adding gasteiger charges to peptide\n",
      "['gridcenter', '-0.269', '0.034', '-0.008', '', '', '', '', '', '', '#', 'xyz-coordinates', 'or', 'auto\\n']\n",
      "\n",
      "mode |   affinity | dist from best mode\n",
      "     | (kcal/mol) | rmsd l.b.| rmsd u.b.\n",
      "-----+------------+----------+----------\n",
      "   1       -7.453          0          0\n",
      "   2       -7.085      7.919      12.01\n",
      "   3       -7.034      1.138      3.188\n",
      "   4       -6.874      1.254      3.219\n",
      "   5       -6.823      40.43      41.97\n",
      "   6       -6.674      25.84      26.94\n",
      "   7       -6.622      38.88      40.46\n",
      "   8       -6.588      1.527      6.269\n",
      "   9       -6.579      7.054      9.604\n",
      "  10       -6.442      8.955      12.16\n",
      "  11       -6.383       2.26      6.158\n",
      "  12       -6.356      8.264      11.72\n",
      "  13       -6.338      22.58       23.6\n",
      "  14       -6.294      7.396      10.47\n",
      "  15       -6.279      2.307      3.833\n",
      "  16        -6.26      34.86      37.05\n",
      "  17       -6.258      39.39      40.83\n",
      "  18       -6.186      25.88      26.59\n",
      "  19        -6.16      40.12      41.48\n",
      "  20       -6.124       22.1      24.43\n",
      "Score before minimization: 0.000 (kcal/mol)\n",
      "Score after minimization : 0.000 (kcal/mol)\n",
      "Computing Vina grid ... done.\n",
      "Performing local search ... done.\n",
      "Performing docking (random seed: 1931329330) ... "
     ]
    },
    {
     "name": "stderr",
     "output_type": "stream",
     "text": [
      "WARNING: Search space volume is greater than 27000 Angstrom^3 (See FAQ)\n"
     ]
    },
    {
     "name": "stdout",
     "output_type": "stream",
     "text": [
      "\n",
      "0%   10   20   30   40   50   60   70   80   90   100%\n",
      "|----|----|----|----|----|----|----|----|----|----|\n",
      "***************************************************\n"
     ]
    },
    {
     "name": "stderr",
     "output_type": "stream",
     "text": [
      "mkdir: dock/IGHG1_pectolinarigenin: File exists\n",
      "2024-02-03 15:04:39,315 [INFO] [plipcmd.py:124] plip.plipcmd: Protein-Ligand Interaction Profiler (PLIP) 2.3.0\n",
      "2024-02-03 15:04:39,315 [INFO] [plipcmd.py:125] plip.plipcmd: brought to you by: PharmAI GmbH (2020-2021) - www.pharm.ai - hello@pharm.ai\n",
      "2024-02-03 15:04:39,315 [INFO] [plipcmd.py:126] plip.plipcmd: please cite: Adasme,M. et al. PLIP 2021: expanding the scope of the protein-ligand interaction profiler to DNA and RNA. Nucl. Acids Res. (05 May 2021), gkab294. doi: 10.1093/nar/gkab294\n",
      "2024-02-03 15:04:39,315 [INFO] [plipcmd.py:49] plip.plipcmd: starting analysis of IGHG1_pectolinarigenin.pdb\n"
     ]
    },
    {
     "name": "stdout",
     "output_type": "stream",
     "text": [
      "IGHG1 pectolinarigenin finished\n"
     ]
    },
    {
     "name": "stderr",
     "output_type": "stream",
     "text": [
      "Imagemagick not available. Images will not be resized or cropped.2024-02-03 15:04:39,623 [INFO] [plipcmd.py:165] plip.plipcmd: finished analysis, find the result files in dock/IGHG1_pectolinarigenin/\n"
     ]
    }
   ],
   "source": [
    "for protein in ['LYZ','MKI67','S100A8','CTSD','HSPA5','IGHG1']:\n",
    "    pdb_files=[i for i in os.listdir('./') if 'pdb' in i]\n",
    "    pdb_file_name=[i for i in pdb_files if protein in i][0]\n",
    "    \n",
    "    ingres=[i.replace(' ','_') for i in list(set(data.loc[data['target']==protein,'herb_name'].tolist()))]\n",
    "    ingre_names=[i for i in ingres if f'{i}.sdf' in os.listdir('./')]\n",
    "    for ingre in ingre_names:\n",
    "        print(protein,ingre,'started')\n",
    "        os.system(f'prepare_receptor -r {pdb_file_name} -o prepare/{protein}.pdbqt -A \"hydrogens\"')\n",
    "        os.system(f'mk_prepare_ligand.py -i {ingre}.sdf -o {ingre}.pdbqt')\n",
    "        os.system(f'pythonsh prepare_gpf.py -l {ingre}.pdbqt -r {ingre}.pdbqt -y -o prepare/{ingre}.gpf')\n",
    "        \n",
    "        with open(f'prepare/{ingre}.gpf','r') as f:\n",
    "            for line in f.readlines():\n",
    "                if 'gridcenter' in line:\n",
    "                    print(line.split(' '))\n",
    "                    loc=[float(line.split(' ')[1]),float(line.split(' ')[2]),float(line.split(' ')[3])]\n",
    "\n",
    "        from vina import Vina\n",
    "\n",
    "\n",
    "        v = Vina(sf_name='vina')\n",
    "\n",
    "        v.set_receptor(f'prepare/{protein}.pdbqt')\n",
    "\n",
    "        v.set_ligand_from_file(f'{ingre}.pdbqt')\n",
    "        v.compute_vina_maps(center=loc, box_size=[100, 100, 100])\n",
    "\n",
    "        # Score the current pose\n",
    "        energy = v.score()\n",
    "        print('Score before minimization: %.3f (kcal/mol)' % energy[0])\n",
    "\n",
    "        # Minimized locally the current pose\n",
    "        energy_minimized = v.optimize()\n",
    "        print('Score after minimization : %.3f (kcal/mol)' % energy_minimized[0])\n",
    "        v.write_pose(f'output/{protein}_{ingre}_minimized.pdbqt', overwrite=True)\n",
    "\n",
    "        # Dock the ligand\n",
    "        v.dock(exhaustiveness=32, n_poses=20)\n",
    "        v.write_poses(f'output/{protein}_{ingre}.pdbqt', n_poses=5, overwrite=True)\n",
    "        \n",
    "        import pymol\n",
    "        pymol.cmd.load(f'output/{protein}_{ingre}.pdbqt')\n",
    "        pymol.cmd.load(f'prepare/{protein}.pdbqt')\n",
    "        pymol.cmd.save(f'dock/{protein}_{ingre}.pdb')\n",
    "        pymol.cmd.delete('all')\n",
    "        \n",
    "        os.system(f'mkdir dock/{protein}_{ingre}')\n",
    "        os.system(f'plip -f dock/{protein}_{ingre}.pdb -xtyp -o dock/{protein}_{ingre}')\n",
    "        print(protein,ingre,'finished')\n"
   ]
  },
  {
   "cell_type": "code",
   "execution_count": 77,
   "id": "5deabdda-5cfe-48b4-a499-713e42c1f3cd",
   "metadata": {},
   "outputs": [
    {
     "name": "stdout",
     "output_type": "stream",
     "text": [
      "LYZ vanillic_acid 7\n",
      "LYZ caffeic_acid 8\n",
      "MKI67 daidzein 7\n",
      "S100A8 rutin 8\n",
      "CTSD quercetin 8\n",
      "HSPA5 quercetin 8\n",
      "IGHG1 irigenin 8\n",
      "IGHG1 rosmarinic_acid 8\n",
      "IGHG1 emodin 8\n",
      "IGHG1 pectolinarigenin 8\n"
     ]
    }
   ],
   "source": [
    "for protein in ['LYZ','MKI67','S100A8','CTSD','HSPA5','IGHG1']:\n",
    "    pdb_files=[i for i in os.listdir('./') if 'pdb' in i]\n",
    "    pdb_file_name=[i for i in pdb_files if protein in i][0]\n",
    "    \n",
    "    ingres=[i.replace(' ','_') for i in list(set(data.loc[data['target']==protein,'herb_name'].tolist()))]\n",
    "    ingre_names=[i for i in ingres if f'{i}.sdf' in os.listdir('./')]\n",
    "    for ingre in ingre_names:\n",
    "        print(protein,ingre,len(os.listdir(f'dock/{protein}_{ingre}')))"
   ]
  },
  {
   "cell_type": "code",
   "execution_count": null,
   "id": "4ea7117e-81a1-4edf-a9fb-f7cc3ee8c0af",
   "metadata": {},
   "outputs": [],
   "source": [
    "os.system(f'pythonsh prepare_gpf.py -l prepare/{ingre}.pdbqt -r prepare/{ingre}.pdbqt -y -o prepare/{ingre}.gpf')\n",
    "        "
   ]
  },
  {
   "cell_type": "code",
   "execution_count": 65,
   "id": "6798580d-54ee-4fdc-a1c5-1cc60cfe340f",
   "metadata": {},
   "outputs": [
    {
     "data": {
      "text/plain": [
       "[]"
      ]
     },
     "execution_count": 65,
     "metadata": {},
     "output_type": "execute_result"
    }
   ],
   "source": [
    "ingre_names"
   ]
  },
  {
   "cell_type": "code",
   "execution_count": 48,
   "id": "74efd19c-6e44-4ef1-ae3b-5a85bb277942",
   "metadata": {},
   "outputs": [
    {
     "data": {
      "text/plain": [
       "['vanillic_acid', 'caffeic_acid']"
      ]
     },
     "execution_count": 48,
     "metadata": {},
     "output_type": "execute_result"
    }
   ],
   "source": [
    "ingres=[i.replace(' ','_') for i in list(set(data.loc[data['target']=='LYZ','herb_name'].tolist()))]\n",
    "[i for i in ingres if f'{i}.sdf' in os.listdir('./')]"
   ]
  },
  {
   "cell_type": "code",
   "execution_count": 53,
   "id": "010a72dd-0f9d-4c07-bbb0-22af00962069",
   "metadata": {},
   "outputs": [
    {
     "name": "stdout",
     "output_type": "stream",
     "text": [
      "adding gasteiger charges to peptide\n"
     ]
    },
    {
     "data": {
      "text/plain": [
       "0"
      ]
     },
     "execution_count": 53,
     "metadata": {},
     "output_type": "execute_result"
    }
   ],
   "source": [
    "import os\n",
    "os.system('prepare_receptor -r LYZ_1xju.pdb -o prepare/LYZ_1xju.pdbqt -A \"hydrogens\"')"
   ]
  },
  {
   "cell_type": "code",
   "execution_count": 59,
   "id": "4acc480e-ee6f-4111-9d2b-e35433fa281e",
   "metadata": {},
   "outputs": [
    {
     "data": {
      "text/plain": [
       "0"
      ]
     },
     "execution_count": 59,
     "metadata": {},
     "output_type": "execute_result"
    }
   ],
   "source": [
    "os.system('mk_prepare_ligand.py -i caffeic_acid.sdf -o prepare/caffeic_acid.pdbqt')"
   ]
  },
  {
   "cell_type": "code",
   "execution_count": 61,
   "id": "a271e086-df47-46a9-9b0a-d4b47dee25ba",
   "metadata": {},
   "outputs": [
    {
     "data": {
      "text/plain": [
       "0"
      ]
     },
     "execution_count": 61,
     "metadata": {},
     "output_type": "execute_result"
    }
   ],
   "source": [
    "import os\n",
    "os.system('pythonsh prepare_gpf.py -l prepare/caffeic_acid.pdbqt -r prepare/caffeic_acid.pdbqt -y -o prepare/caffeic_acid.gpf')"
   ]
  },
  {
   "cell_type": "code",
   "execution_count": 18,
   "id": "be245876-a4b6-42ef-8e2b-d5e0724b4367",
   "metadata": {},
   "outputs": [
    {
     "name": "stdout",
     "output_type": "stream",
     "text": [
      "['gridcenter', '0.182', '0.075', '0.033', '', '', '', '', '', '', '', '', '#', 'xyz-coordinates', 'or', 'auto\\n']\n"
     ]
    }
   ],
   "source": [
    "with open('caffeic_acid.gpf','r') as f:\n",
    "    for line in f.readlines():\n",
    "        if 'gridcenter' in line:\n",
    "            print(line.split(' '))\n",
    "            loc=[float(line.split(' ')[1]),float(line.split(' ')[2]),float(line.split(' ')[3])]"
   ]
  },
  {
   "cell_type": "code",
   "execution_count": 32,
   "id": "0294fc17-a596-4fd2-a70e-476b162f9058",
   "metadata": {},
   "outputs": [
    {
     "name": "stdout",
     "output_type": "stream",
     "text": [
      "\n",
      "mode |   affinity | dist from best mode\n",
      "     | (kcal/mol) | rmsd l.b.| rmsd u.b.\n",
      "-----+------------+----------+----------\n",
      "   1       -4.123          0          0\n",
      "   2       -4.044      8.662      10.43\n",
      "   3       -3.984      11.71      12.77\n",
      "   4       -3.956      2.973      3.971\n",
      "   5       -3.896      2.713      6.396\n",
      "   6       -3.878      12.77      14.15\n",
      "   7       -3.847      9.505      10.52\n",
      "   8       -3.847      4.172      5.884\n",
      "   9        -3.84      8.098       8.89\n",
      "  10       -3.831      8.152      10.24\n",
      "  11       -3.828       8.64      10.31\n",
      "  12       -3.796       8.21      10.02\n",
      "  13         -3.7      4.969      6.912\n",
      "  14       -3.601      8.691      10.63\n",
      "  15       -3.582      10.39      12.24\n",
      "  16       -3.579      1.194      5.947\n",
      "  17       -3.578      11.69      12.97\n",
      "  18       -3.569      9.805         11\n",
      "  19       -3.564      1.514      5.934\n",
      "  20       -3.561      8.891      9.904\n",
      "Computing Vina grid ... Score before minimization: -0.457 (kcal/mol)\n",
      "Score after minimization : -0.497 (kcal/mol)\n",
      "done.\n",
      "Performing local search ... done.\n",
      "Performing docking (random seed: 619866154) ... \n",
      "0%   10   20   30   40   50   60   70   80   90   100%\n",
      "|----|----|----|----|----|----|----|----|----|----|\n",
      "***************************************************\n"
     ]
    }
   ],
   "source": [
    "from vina import Vina\n",
    "\n",
    "\n",
    "v = Vina(sf_name='vina')\n",
    "\n",
    "v.set_receptor('LYZ_1xju.pdbqt')\n",
    "\n",
    "v.set_ligand_from_file('caffeic_acid.pdbqt')\n",
    "v.compute_vina_maps(center=loc, box_size=[20, 20, 20])\n",
    "\n",
    "# Score the current pose\n",
    "energy = v.score()\n",
    "print('Score before minimization: %.3f (kcal/mol)' % energy[0])\n",
    "\n",
    "# Minimized locally the current pose\n",
    "energy_minimized = v.optimize()\n",
    "print('Score after minimization : %.3f (kcal/mol)' % energy_minimized[0])\n",
    "v.write_pose('output/LYZ_1xju_caffeic_acid_minimized.pdbqt', overwrite=True)\n",
    "\n",
    "# Dock the ligand\n",
    "v.dock(exhaustiveness=32, n_poses=20)\n",
    "v.write_poses('output/LYZ_1xju_caffeic_acid.pdbqt', n_poses=5, overwrite=True)"
   ]
  },
  {
   "cell_type": "code",
   "execution_count": 33,
   "id": "8d310404-7cc3-4f23-a16d-95befb06fd9f",
   "metadata": {},
   "outputs": [],
   "source": [
    "import pymol\n",
    "pymol.cmd.load('output/LYZ_1xju_caffeic_acid.pdbqt')"
   ]
  },
  {
   "cell_type": "code",
   "execution_count": 34,
   "id": "b05e102d-00de-436e-96f7-b9e078582029",
   "metadata": {},
   "outputs": [],
   "source": [
    "pymol.cmd.load('LYZ_1xju.pdbqt')"
   ]
  },
  {
   "cell_type": "code",
   "execution_count": 35,
   "id": "581c8c93-ef32-457e-8ff8-1d4a07e92ac7",
   "metadata": {},
   "outputs": [],
   "source": [
    "pymol.cmd.save('dock/LYZ_1xju_caffeic_acid.pdb')"
   ]
  },
  {
   "cell_type": "code",
   "execution_count": 36,
   "id": "16ef22ba-1748-481f-b37b-a7572fe8d30c",
   "metadata": {},
   "outputs": [],
   "source": [
    "pymol.cmd.delete('all')"
   ]
  },
  {
   "cell_type": "code",
   "execution_count": null,
   "id": "efdda731-d940-478b-aa5e-b3ee4e45a3df",
   "metadata": {},
   "outputs": [],
   "source": []
  },
  {
   "cell_type": "code",
   "execution_count": 37,
   "id": "ffa19f5e-e1f1-4c02-a2e2-2c1e8a40a1e0",
   "metadata": {},
   "outputs": [
    {
     "name": "stderr",
     "output_type": "stream",
     "text": [
      "mkdir: dock/LYZ_1xju_caffeic_acid: File exists\n",
      "2024-02-03 14:15:51,031 [INFO] [plipcmd.py:124] plip.plipcmd: Protein-Ligand Interaction Profiler (PLIP) 2.3.0\n",
      "2024-02-03 14:15:51,031 [INFO] [plipcmd.py:125] plip.plipcmd: brought to you by: PharmAI GmbH (2020-2021) - www.pharm.ai - hello@pharm.ai\n",
      "2024-02-03 14:15:51,031 [INFO] [plipcmd.py:126] plip.plipcmd: please cite: Adasme,M. et al. PLIP 2021: expanding the scope of the protein-ligand interaction profiler to DNA and RNA. Nucl. Acids Res. (05 May 2021), gkab294. doi: 10.1093/nar/gkab294\n",
      "2024-02-03 14:15:51,031 [INFO] [plipcmd.py:49] plip.plipcmd: starting analysis of LYZ_1xju_caffeic_acid.pdb\n",
      "Imagemagick not available. Images will not be resized or cropped.2024-02-03 14:15:51,365 [INFO] [plipcmd.py:165] plip.plipcmd: finished analysis, find the result files in dock/LYZ_1xju_caffeic_acid/\n"
     ]
    },
    {
     "data": {
      "text/plain": [
       "0"
      ]
     },
     "execution_count": 37,
     "metadata": {},
     "output_type": "execute_result"
    }
   ],
   "source": [
    "import os\n",
    "os.system('mkdir dock/LYZ_1xju_caffeic_acid')\n",
    "os.system('plip -f dock/LYZ_1xju_caffeic_acid.pdb -xtyp -o dock/LYZ_1xju_caffeic_acid')\n"
   ]
  },
  {
   "cell_type": "code",
   "execution_count": null,
   "id": "ddaade40-06af-434a-8c7b-7666d956625c",
   "metadata": {},
   "outputs": [],
   "source": []
  }
 ],
 "metadata": {
  "kernelspec": {
   "display_name": "Python 3 (ipykernel)",
   "language": "python",
   "name": "python3"
  },
  "language_info": {
   "codemirror_mode": {
    "name": "ipython",
    "version": 3
   },
   "file_extension": ".py",
   "mimetype": "text/x-python",
   "name": "python",
   "nbconvert_exporter": "python",
   "pygments_lexer": "ipython3",
   "version": "3.8.13"
  }
 },
 "nbformat": 4,
 "nbformat_minor": 5
}
